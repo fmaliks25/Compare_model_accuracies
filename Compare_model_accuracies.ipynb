{
  "nbformat": 4,
  "nbformat_minor": 0,
  "metadata": {
    "colab": {
      "provenance": []
    },
    "kernelspec": {
      "name": "python3",
      "display_name": "Python 3"
    },
    "language_info": {
      "name": "python"
    }
  },
  "cells": [
    {
      "cell_type": "code",
      "execution_count": 2,
      "metadata": {
        "colab": {
          "base_uri": "https://localhost:8080/"
        },
        "id": "MRYGtOwjYREM",
        "outputId": "972a374c-a2b3-4215-cf8f-f2cd44a6d6bd"
      },
      "outputs": [
        {
          "output_type": "stream",
          "name": "stdout",
          "text": [
            "SVM Accuracy: 0.63\n",
            "SVM Classification Report:\n",
            "              precision    recall  f1-score   support\n",
            "\n",
            "        high       0.78      0.69      0.73      1496\n",
            "         low       0.63      0.71      0.67      1497\n",
            "      medium       0.50      0.49      0.49      1545\n",
            "\n",
            "    accuracy                           0.63      4538\n",
            "   macro avg       0.63      0.63      0.63      4538\n",
            "weighted avg       0.63      0.63      0.63      4538\n",
            "\n",
            "Random Forest Accuracy: 0.66\n",
            "Random Forest Classification Report:\n",
            "              precision    recall  f1-score   support\n",
            "\n",
            "        high       0.75      0.77      0.76      1496\n",
            "         low       0.67      0.70      0.68      1497\n",
            "      medium       0.56      0.53      0.54      1545\n",
            "\n",
            "    accuracy                           0.66      4538\n",
            "   macro avg       0.66      0.66      0.66      4538\n",
            "weighted avg       0.66      0.66      0.66      4538\n",
            "\n",
            "Random Forest performs better than SVM.\n"
          ]
        }
      ],
      "source": [
        "import numpy as np\n",
        "import pandas as pd\n",
        "from sklearn.model_selection import train_test_split\n",
        "from sklearn.preprocessing import StandardScaler\n",
        "from sklearn.svm import SVC\n",
        "from sklearn.ensemble import RandomForestClassifier\n",
        "from sklearn.metrics import accuracy_score, classification_report\n",
        "\n",
        "# Load the dataset\n",
        "file_path = '/content/sample_data/house_sales.csv'\n",
        "data = pd.read_csv(file_path)\n",
        "\n",
        "# Drop the index column\n",
        "data = data.drop(columns=['Unnamed: 0'])\n",
        "\n",
        "# Bin the House_Sale_Price into categories\n",
        "price_bins = pd.qcut(data['House_Sale_Price'], q=3, labels=['low', 'medium', 'high'])\n",
        "data['Price_Category'] = price_bins\n",
        "\n",
        "# Prepare the features and target variable\n",
        "X = data.drop(columns=['House_Sale_Price', 'Price_Category'])\n",
        "y = data['Price_Category']\n",
        "\n",
        "# Split the data into training and testing sets\n",
        "X_train, X_test, y_train, y_test = train_test_split(X, y, test_size=0.2, random_state=42)\n",
        "\n",
        "# Standardize the features\n",
        "scaler = StandardScaler()\n",
        "X_train_scaled = scaler.fit_transform(X_train)\n",
        "X_test_scaled = scaler.transform(X_test)\n",
        "\n",
        "# Train and evaluate a support vector machine (SVM) model\n",
        "svm_model = SVC(kernel='linear', random_state=42)\n",
        "svm_model.fit(X_train_scaled, y_train)\n",
        "y_pred_svm = svm_model.predict(X_test_scaled)\n",
        "accuracy_svm = accuracy_score(y_test, y_pred_svm)\n",
        "print(f'SVM Accuracy: {accuracy_svm:.2f}')\n",
        "print(\"SVM Classification Report:\")\n",
        "print(classification_report(y_test, y_pred_svm))\n",
        "\n",
        "# Train and evaluate a random forest model\n",
        "rf_model = RandomForestClassifier(n_estimators=100, random_state=42)\n",
        "rf_model.fit(X_train_scaled, y_train)\n",
        "y_pred_rf = rf_model.predict(X_test_scaled)\n",
        "accuracy_rf = accuracy_score(y_test, y_pred_rf)\n",
        "print(f'Random Forest Accuracy: {accuracy_rf:.2f}')\n",
        "print(\"Random Forest Classification Report:\")\n",
        "print(classification_report(y_test, y_pred_rf))\n",
        "\n",
        "# Compare model accuracies\n",
        "if accuracy_svm > accuracy_rf:\n",
        "    print(\"SVM performs better than Random Forest.\")\n",
        "elif accuracy_rf > accuracy_svm:\n",
        "    print(\"Random Forest performs better than SVM.\")\n",
        "else:\n",
        "    print(\"Both models have the same accuracy.\")\n"
      ]
    }
  ]
}